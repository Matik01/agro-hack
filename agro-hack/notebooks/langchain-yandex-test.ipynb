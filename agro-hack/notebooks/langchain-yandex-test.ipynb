{
 "cells": [
  {
   "cell_type": "code",
   "id": "9e9f924e-8105-41af-beb4-fc4ee59517d5",
   "metadata": {
    "ExecuteTime": {
     "end_time": "2025-04-16T09:57:49.446667Z",
     "start_time": "2025-04-16T09:57:33.613313Z"
    }
   },
   "source": "!pip install pandas google-api-python-client google-auth google-auth-oauthlib google-auth-httplib2 openpyxl langchain grpcio grpcio-tools yandexcloud\n",
   "outputs": [
    {
     "name": "stdout",
     "output_type": "stream",
     "text": [
      "Requirement already satisfied: pandas in d:\\bioinfo\\itmo\\agro-hack\\agro-hack\\.venv\\lib\\site-packages (2.2.3)\n",
      "Requirement already satisfied: google-api-python-client in d:\\bioinfo\\itmo\\agro-hack\\agro-hack\\.venv\\lib\\site-packages (2.167.0)\n",
      "Requirement already satisfied: google-auth in d:\\bioinfo\\itmo\\agro-hack\\agro-hack\\.venv\\lib\\site-packages (2.39.0)\n",
      "Requirement already satisfied: google-auth-oauthlib in d:\\bioinfo\\itmo\\agro-hack\\agro-hack\\.venv\\lib\\site-packages (1.2.1)\n",
      "Requirement already satisfied: google-auth-httplib2 in d:\\bioinfo\\itmo\\agro-hack\\agro-hack\\.venv\\lib\\site-packages (0.2.0)\n",
      "Requirement already satisfied: openpyxl in d:\\bioinfo\\itmo\\agro-hack\\agro-hack\\.venv\\lib\\site-packages (3.1.5)\n",
      "Requirement already satisfied: langchain in d:\\bioinfo\\itmo\\agro-hack\\agro-hack\\.venv\\lib\\site-packages (0.3.23)\n",
      "Requirement already satisfied: grpcio in d:\\bioinfo\\itmo\\agro-hack\\agro-hack\\.venv\\lib\\site-packages (1.71.0)\n",
      "Requirement already satisfied: grpcio-tools in d:\\bioinfo\\itmo\\agro-hack\\agro-hack\\.venv\\lib\\site-packages (1.71.0)\n",
      "Collecting yandexcloud\n",
      "  Obtaining dependency information for yandexcloud from https://files.pythonhosted.org/packages/52/e3/358a349861cb5e73695430fe9f0b053a6e5096511942f1c85d40f7d70b54/yandexcloud-0.340.0-py3-none-any.whl.metadata\n",
      "  Downloading yandexcloud-0.340.0-py3-none-any.whl.metadata (12 kB)\n",
      "Requirement already satisfied: numpy>=1.26.0 in d:\\bioinfo\\itmo\\agro-hack\\agro-hack\\.venv\\lib\\site-packages (from pandas) (2.2.4)\n",
      "Requirement already satisfied: python-dateutil>=2.8.2 in d:\\bioinfo\\itmo\\agro-hack\\agro-hack\\.venv\\lib\\site-packages (from pandas) (2.9.0.post0)\n",
      "Requirement already satisfied: pytz>=2020.1 in d:\\bioinfo\\itmo\\agro-hack\\agro-hack\\.venv\\lib\\site-packages (from pandas) (2025.2)\n",
      "Requirement already satisfied: tzdata>=2022.7 in d:\\bioinfo\\itmo\\agro-hack\\agro-hack\\.venv\\lib\\site-packages (from pandas) (2025.2)\n",
      "Requirement already satisfied: httplib2<1.0.0,>=0.19.0 in d:\\bioinfo\\itmo\\agro-hack\\agro-hack\\.venv\\lib\\site-packages (from google-api-python-client) (0.22.0)\n",
      "Requirement already satisfied: google-api-core!=2.0.*,!=2.1.*,!=2.2.*,!=2.3.0,<3.0.0,>=1.31.5 in d:\\bioinfo\\itmo\\agro-hack\\agro-hack\\.venv\\lib\\site-packages (from google-api-python-client) (2.24.2)\n",
      "Requirement already satisfied: uritemplate<5,>=3.0.1 in d:\\bioinfo\\itmo\\agro-hack\\agro-hack\\.venv\\lib\\site-packages (from google-api-python-client) (4.1.1)\n",
      "Requirement already satisfied: cachetools<6.0,>=2.0.0 in d:\\bioinfo\\itmo\\agro-hack\\agro-hack\\.venv\\lib\\site-packages (from google-auth) (5.5.2)\n",
      "Requirement already satisfied: pyasn1-modules>=0.2.1 in d:\\bioinfo\\itmo\\agro-hack\\agro-hack\\.venv\\lib\\site-packages (from google-auth) (0.4.2)\n",
      "Requirement already satisfied: rsa<5,>=3.1.4 in d:\\bioinfo\\itmo\\agro-hack\\agro-hack\\.venv\\lib\\site-packages (from google-auth) (4.9)\n",
      "Requirement already satisfied: requests-oauthlib>=0.7.0 in d:\\bioinfo\\itmo\\agro-hack\\agro-hack\\.venv\\lib\\site-packages (from google-auth-oauthlib) (2.0.0)\n",
      "Requirement already satisfied: et-xmlfile in d:\\bioinfo\\itmo\\agro-hack\\agro-hack\\.venv\\lib\\site-packages (from openpyxl) (2.0.0)\n",
      "Requirement already satisfied: langchain-core<1.0.0,>=0.3.51 in d:\\bioinfo\\itmo\\agro-hack\\agro-hack\\.venv\\lib\\site-packages (from langchain) (0.3.52)\n",
      "Requirement already satisfied: langchain-text-splitters<1.0.0,>=0.3.8 in d:\\bioinfo\\itmo\\agro-hack\\agro-hack\\.venv\\lib\\site-packages (from langchain) (0.3.8)\n",
      "Requirement already satisfied: langsmith<0.4,>=0.1.17 in d:\\bioinfo\\itmo\\agro-hack\\agro-hack\\.venv\\lib\\site-packages (from langchain) (0.3.31)\n",
      "Requirement already satisfied: pydantic<3.0.0,>=2.7.4 in d:\\bioinfo\\itmo\\agro-hack\\agro-hack\\.venv\\lib\\site-packages (from langchain) (2.11.3)\n",
      "Requirement already satisfied: SQLAlchemy<3,>=1.4 in d:\\bioinfo\\itmo\\agro-hack\\agro-hack\\.venv\\lib\\site-packages (from langchain) (2.0.40)\n",
      "Requirement already satisfied: requests<3,>=2 in d:\\bioinfo\\itmo\\agro-hack\\agro-hack\\.venv\\lib\\site-packages (from langchain) (2.32.3)\n",
      "Requirement already satisfied: PyYAML>=5.3 in d:\\bioinfo\\itmo\\agro-hack\\agro-hack\\.venv\\lib\\site-packages (from langchain) (6.0.2)\n",
      "Requirement already satisfied: protobuf<6.0dev,>=5.26.1 in d:\\bioinfo\\itmo\\agro-hack\\agro-hack\\.venv\\lib\\site-packages (from grpcio-tools) (5.29.4)\n",
      "Requirement already satisfied: setuptools in d:\\bioinfo\\itmo\\agro-hack\\agro-hack\\.venv\\lib\\site-packages (from grpcio-tools) (78.1.0)\n",
      "Collecting cryptography>=44.0.0 (from yandexcloud)\n",
      "  Obtaining dependency information for cryptography>=44.0.0 from https://files.pythonhosted.org/packages/33/cf/1f7649b8b9a3543e042d3f348e398a061923ac05b507f3f4d95f11938aa9/cryptography-44.0.2-cp39-abi3-win_amd64.whl.metadata\n",
      "  Downloading cryptography-44.0.2-cp39-abi3-win_amd64.whl.metadata (5.7 kB)\n",
      "Requirement already satisfied: googleapis-common-protos<2,>=1.66.0 in d:\\bioinfo\\itmo\\agro-hack\\agro-hack\\.venv\\lib\\site-packages (from yandexcloud) (1.70.0)\n",
      "Collecting pyjwt<3,>=2.10.1 (from yandexcloud)\n",
      "  Obtaining dependency information for pyjwt<3,>=2.10.1 from https://files.pythonhosted.org/packages/61/ad/689f02752eeec26aed679477e80e632ef1b682313be70793d798c1d5fc8f/PyJWT-2.10.1-py3-none-any.whl.metadata\n",
      "  Downloading PyJWT-2.10.1-py3-none-any.whl.metadata (4.0 kB)\n",
      "Requirement already satisfied: six<2,>=1.17.0 in d:\\bioinfo\\itmo\\agro-hack\\agro-hack\\.venv\\lib\\site-packages (from yandexcloud) (1.17.0)\n",
      "Collecting deprecated>=1.2.18 (from yandexcloud)\n",
      "  Obtaining dependency information for deprecated>=1.2.18 from https://files.pythonhosted.org/packages/6e/c6/ac0b6c1e2d138f1002bcf799d330bd6d85084fece321e662a14223794041/Deprecated-1.2.18-py2.py3-none-any.whl.metadata\n",
      "  Downloading Deprecated-1.2.18-py2.py3-none-any.whl.metadata (5.7 kB)\n",
      "Requirement already satisfied: cffi>=1.12 in d:\\bioinfo\\itmo\\agro-hack\\agro-hack\\.venv\\lib\\site-packages (from cryptography>=44.0.0->yandexcloud) (1.17.1)\n",
      "Collecting wrapt<2,>=1.10 (from deprecated>=1.2.18->yandexcloud)\n",
      "  Obtaining dependency information for wrapt<2,>=1.10 from https://files.pythonhosted.org/packages/15/06/1dbf478ea45c03e78a6a8c4be4fdc3c3bddea5c8de8a93bc971415e47f0f/wrapt-1.17.2-cp312-cp312-win_amd64.whl.metadata\n",
      "  Downloading wrapt-1.17.2-cp312-cp312-win_amd64.whl.metadata (6.5 kB)\n",
      "Requirement already satisfied: proto-plus<2.0.0,>=1.22.3 in d:\\bioinfo\\itmo\\agro-hack\\agro-hack\\.venv\\lib\\site-packages (from google-api-core!=2.0.*,!=2.1.*,!=2.2.*,!=2.3.0,<3.0.0,>=1.31.5->google-api-python-client) (1.26.1)\n",
      "Requirement already satisfied: pyparsing!=3.0.0,!=3.0.1,!=3.0.2,!=3.0.3,<4,>=2.4.2 in d:\\bioinfo\\itmo\\agro-hack\\agro-hack\\.venv\\lib\\site-packages (from httplib2<1.0.0,>=0.19.0->google-api-python-client) (3.2.3)\n",
      "Requirement already satisfied: tenacity!=8.4.0,<10.0.0,>=8.1.0 in d:\\bioinfo\\itmo\\agro-hack\\agro-hack\\.venv\\lib\\site-packages (from langchain-core<1.0.0,>=0.3.51->langchain) (9.1.2)\n",
      "Requirement already satisfied: jsonpatch<2.0,>=1.33 in d:\\bioinfo\\itmo\\agro-hack\\agro-hack\\.venv\\lib\\site-packages (from langchain-core<1.0.0,>=0.3.51->langchain) (1.33)\n",
      "Requirement already satisfied: packaging<25,>=23.2 in d:\\bioinfo\\itmo\\agro-hack\\agro-hack\\.venv\\lib\\site-packages (from langchain-core<1.0.0,>=0.3.51->langchain) (24.2)\n",
      "Requirement already satisfied: typing-extensions>=4.7 in d:\\bioinfo\\itmo\\agro-hack\\agro-hack\\.venv\\lib\\site-packages (from langchain-core<1.0.0,>=0.3.51->langchain) (4.13.2)\n",
      "Requirement already satisfied: httpx<1,>=0.23.0 in d:\\bioinfo\\itmo\\agro-hack\\agro-hack\\.venv\\lib\\site-packages (from langsmith<0.4,>=0.1.17->langchain) (0.28.1)\n",
      "Requirement already satisfied: orjson<4.0.0,>=3.9.14 in d:\\bioinfo\\itmo\\agro-hack\\agro-hack\\.venv\\lib\\site-packages (from langsmith<0.4,>=0.1.17->langchain) (3.10.16)\n",
      "Requirement already satisfied: requests-toolbelt<2.0.0,>=1.0.0 in d:\\bioinfo\\itmo\\agro-hack\\agro-hack\\.venv\\lib\\site-packages (from langsmith<0.4,>=0.1.17->langchain) (1.0.0)\n",
      "Requirement already satisfied: zstandard<0.24.0,>=0.23.0 in d:\\bioinfo\\itmo\\agro-hack\\agro-hack\\.venv\\lib\\site-packages (from langsmith<0.4,>=0.1.17->langchain) (0.23.0)\n",
      "Requirement already satisfied: pyasn1<0.7.0,>=0.6.1 in d:\\bioinfo\\itmo\\agro-hack\\agro-hack\\.venv\\lib\\site-packages (from pyasn1-modules>=0.2.1->google-auth) (0.6.1)\n",
      "Requirement already satisfied: annotated-types>=0.6.0 in d:\\bioinfo\\itmo\\agro-hack\\agro-hack\\.venv\\lib\\site-packages (from pydantic<3.0.0,>=2.7.4->langchain) (0.7.0)\n",
      "Requirement already satisfied: pydantic-core==2.33.1 in d:\\bioinfo\\itmo\\agro-hack\\agro-hack\\.venv\\lib\\site-packages (from pydantic<3.0.0,>=2.7.4->langchain) (2.33.1)\n",
      "Requirement already satisfied: typing-inspection>=0.4.0 in d:\\bioinfo\\itmo\\agro-hack\\agro-hack\\.venv\\lib\\site-packages (from pydantic<3.0.0,>=2.7.4->langchain) (0.4.0)\n",
      "Requirement already satisfied: charset-normalizer<4,>=2 in d:\\bioinfo\\itmo\\agro-hack\\agro-hack\\.venv\\lib\\site-packages (from requests<3,>=2->langchain) (3.4.1)\n",
      "Requirement already satisfied: idna<4,>=2.5 in d:\\bioinfo\\itmo\\agro-hack\\agro-hack\\.venv\\lib\\site-packages (from requests<3,>=2->langchain) (3.10)\n",
      "Requirement already satisfied: urllib3<3,>=1.21.1 in d:\\bioinfo\\itmo\\agro-hack\\agro-hack\\.venv\\lib\\site-packages (from requests<3,>=2->langchain) (2.4.0)\n",
      "Requirement already satisfied: certifi>=2017.4.17 in d:\\bioinfo\\itmo\\agro-hack\\agro-hack\\.venv\\lib\\site-packages (from requests<3,>=2->langchain) (2025.1.31)\n",
      "Requirement already satisfied: oauthlib>=3.0.0 in d:\\bioinfo\\itmo\\agro-hack\\agro-hack\\.venv\\lib\\site-packages (from requests-oauthlib>=0.7.0->google-auth-oauthlib) (3.2.2)\n",
      "Requirement already satisfied: greenlet>=1 in d:\\bioinfo\\itmo\\agro-hack\\agro-hack\\.venv\\lib\\site-packages (from SQLAlchemy<3,>=1.4->langchain) (3.2.0)\n",
      "Requirement already satisfied: pycparser in d:\\bioinfo\\itmo\\agro-hack\\agro-hack\\.venv\\lib\\site-packages (from cffi>=1.12->cryptography>=44.0.0->yandexcloud) (2.22)\n",
      "Requirement already satisfied: anyio in d:\\bioinfo\\itmo\\agro-hack\\agro-hack\\.venv\\lib\\site-packages (from httpx<1,>=0.23.0->langsmith<0.4,>=0.1.17->langchain) (4.9.0)\n",
      "Requirement already satisfied: httpcore==1.* in d:\\bioinfo\\itmo\\agro-hack\\agro-hack\\.venv\\lib\\site-packages (from httpx<1,>=0.23.0->langsmith<0.4,>=0.1.17->langchain) (1.0.8)\n",
      "Requirement already satisfied: h11<0.15,>=0.13 in d:\\bioinfo\\itmo\\agro-hack\\agro-hack\\.venv\\lib\\site-packages (from httpcore==1.*->httpx<1,>=0.23.0->langsmith<0.4,>=0.1.17->langchain) (0.14.0)\n",
      "Requirement already satisfied: jsonpointer>=1.9 in d:\\bioinfo\\itmo\\agro-hack\\agro-hack\\.venv\\lib\\site-packages (from jsonpatch<2.0,>=1.33->langchain-core<1.0.0,>=0.3.51->langchain) (3.0.0)\n",
      "Requirement already satisfied: sniffio>=1.1 in d:\\bioinfo\\itmo\\agro-hack\\agro-hack\\.venv\\lib\\site-packages (from anyio->httpx<1,>=0.23.0->langsmith<0.4,>=0.1.17->langchain) (1.3.1)\n",
      "Downloading yandexcloud-0.340.0-py3-none-any.whl (4.7 MB)\n",
      "   ---------------------------------------- 0.0/4.7 MB ? eta -:--:--\n",
      "   ---------------------------------------- 0.0/4.7 MB 1.3 MB/s eta 0:00:04\n",
      "    --------------------------------------- 0.1/4.7 MB 1.1 MB/s eta 0:00:05\n",
      "   - -------------------------------------- 0.2/4.7 MB 1.5 MB/s eta 0:00:03\n",
      "   -- ------------------------------------- 0.3/4.7 MB 1.6 MB/s eta 0:00:03\n",
      "   ---- ----------------------------------- 0.6/4.7 MB 2.5 MB/s eta 0:00:02\n",
      "   -------- ------------------------------- 1.0/4.7 MB 3.8 MB/s eta 0:00:01\n",
      "   ------------ --------------------------- 1.4/4.7 MB 4.4 MB/s eta 0:00:01\n",
      "   ------------------ --------------------- 2.1/4.7 MB 6.1 MB/s eta 0:00:01\n",
      "   ------------------------ --------------- 2.8/4.7 MB 6.9 MB/s eta 0:00:01\n",
      "   ------------------------------ --------- 3.6/4.7 MB 7.9 MB/s eta 0:00:01\n",
      "   -------------------------------- ------- 3.8/4.7 MB 7.7 MB/s eta 0:00:01\n",
      "   ---------------------------------------- 4.7/4.7 MB 8.3 MB/s eta 0:00:00\n",
      "Downloading cryptography-44.0.2-cp39-abi3-win_amd64.whl (3.2 MB)\n",
      "   ---------------------------------------- 0.0/3.2 MB ? eta -:--:--\n",
      "   ---------- ----------------------------- 0.8/3.2 MB 25.8 MB/s eta 0:00:01\n",
      "   ----------------- ---------------------- 1.4/3.2 MB 31.2 MB/s eta 0:00:01\n",
      "   ---------------------- ----------------- 1.8/3.2 MB 19.3 MB/s eta 0:00:01\n",
      "   ---------------------------------------  3.2/3.2 MB 14.7 MB/s eta 0:00:01\n",
      "   ---------------------------------------- 3.2/3.2 MB 12.8 MB/s eta 0:00:00\n",
      "Downloading Deprecated-1.2.18-py2.py3-none-any.whl (10.0 kB)\n",
      "Downloading PyJWT-2.10.1-py3-none-any.whl (22 kB)\n",
      "Downloading wrapt-1.17.2-cp312-cp312-win_amd64.whl (38 kB)\n",
      "Installing collected packages: wrapt, pyjwt, deprecated, cryptography, yandexcloud\n",
      "Successfully installed cryptography-44.0.2 deprecated-1.2.18 pyjwt-2.10.1 wrapt-1.17.2 yandexcloud-0.340.0\n"
     ]
    },
    {
     "name": "stderr",
     "output_type": "stream",
     "text": [
      "\n",
      "[notice] A new release of pip is available: 23.2.1 -> 25.0.1\n",
      "[notice] To update, run: python.exe -m pip install --upgrade pip\n"
     ]
    }
   ],
   "execution_count": 63
  },
  {
   "cell_type": "code",
   "id": "56ae016e-dcf6-4c14-af6a-0ca2840628a6",
   "metadata": {
    "ExecuteTime": {
     "end_time": "2025-04-16T09:57:49.516774Z",
     "start_time": "2025-04-16T09:57:49.508641Z"
    }
   },
   "source": [
    "from langchain.chains import LLMChain\n",
    "from langchain_community.llms import YandexGPT\n",
    "from langchain_core.prompts import ChatPromptTemplate, PromptTemplate\n",
    "from langchain_core.output_parsers import StrOutputParser\n",
    "from langchain_community.chat_models import ChatYandexGPT\n",
    "from langchain_core.prompts import ChatPromptTemplate, SystemMessagePromptTemplate, HumanMessagePromptTemplate\n",
    "from langchain_core.prompts import FewShotChatMessagePromptTemplate\n",
    "import re\n",
    "import json\n",
    "import os\n",
    "\n",
    "import pandas as pd\n",
    "import numpy as np\n",
    "\n",
    "from google.oauth2.credentials import Credentials\n",
    "from google_auth_oauthlib.flow import InstalledAppFlow\n",
    "from googleapiclient.discovery import build\n",
    "from googleapiclient.http import MediaFileUpload"
   ],
   "outputs": [],
   "execution_count": 64
  },
  {
   "metadata": {
    "ExecuteTime": {
     "end_time": "2025-04-16T09:57:49.536408Z",
     "start_time": "2025-04-16T09:57:49.529938Z"
    }
   },
   "cell_type": "code",
   "source": [
    "from dotenv import load_dotenv\n",
    "from pathlib import Path\n",
    "\n",
    "load_dotenv()\n",
    "\n",
    "\n",
    "API_KEY = os.getenv(\"YANDEX_API_KEY\")\n",
    "MODEL_URI = os.getenv(\"YANDEX_MODEL_URI\")"
   ],
   "id": "c4dfa9f16238793f",
   "outputs": [],
   "execution_count": 65
  },
  {
   "metadata": {
    "ExecuteTime": {
     "end_time": "2025-04-16T09:57:49.564142Z",
     "start_time": "2025-04-16T09:57:49.552308Z"
    }
   },
   "cell_type": "code",
   "source": [
    "print(f\"API_KEY set: {bool(API_KEY)}\")\n",
    "print(f\"MODEL_URI: {MODEL_URI}\")"
   ],
   "id": "7ec5b8c94e3b0fe0",
   "outputs": [
    {
     "name": "stdout",
     "output_type": "stream",
     "text": [
      "API_KEY set: True\n",
      "MODEL_URI: gpt://b1gjoiftodjh5fkultoi/yandexgpt/latest\n"
     ]
    }
   ],
   "execution_count": 66
  },
  {
   "cell_type": "code",
   "id": "e77c54d0-9171-4986-8802-f972a999f35c",
   "metadata": {
    "ExecuteTime": {
     "end_time": "2025-04-16T09:57:49.612829Z",
     "start_time": "2025-04-16T09:57:49.606091Z"
    }
   },
   "source": "gpt = YandexGPT(api_key=API_KEY, model_uri=MODEL_URI, temperature=0)",
   "outputs": [],
   "execution_count": 67
  },
  {
   "cell_type": "code",
   "id": "522364bb-3ece-4af2-aa97-2b1ef8dff54b",
   "metadata": {
    "ExecuteTime": {
     "end_time": "2025-04-16T09:57:49.637519Z",
     "start_time": "2025-04-16T09:57:49.632003Z"
    }
   },
   "source": "model = ChatYandexGPT(api_key=API_KEY,model_uri=MODEL_URI, temperature=0)",
   "outputs": [],
   "execution_count": 68
  },
  {
   "cell_type": "code",
   "id": "acf27ee0-e337-46b3-bf37-4bae0543254f",
   "metadata": {
    "ExecuteTime": {
     "end_time": "2025-04-16T09:57:49.661206Z",
     "start_time": "2025-04-16T09:57:49.650240Z"
    }
   },
   "source": [
    "new_system_prompt = \"\"\"\n",
    "Ты — сельскохозяйственный анализатор данных.\n",
    "\n",
    "Твоя задача — извлечь из текста следующую информацию и представить её строго в формате JSON:\n",
    "\n",
    "{{\n",
    "  \\\"дата\\\": str | null,\n",
    "  \\\"операции\\\": [\n",
    "    {{\n",
    "      \\\"операция\\\": str,  # Только из утверждённого списка ниже\n",
    "      \\\"отделение\\\": int | null,  # Только число или null\n",
    "      \\\"подразделение\\\": str | null,  # Из утверждённого списка, может отсутствовать\n",
    "      \\\"площадь\\\": {{\n",
    "          \\\"за_день\\\": float | null,\n",
    "          \\\"c_начала_операции\\\": float | null\n",
    "      }},\n",
    "      \\\"площадь_по_ПУ\\\": {{\n",
    "          \\\"за_день\\\": float | null,\n",
    "          \\\"c_начала_операции\\\": float | null\n",
    "      }},\n",
    "      \\\"растительная_культура\\\": str | null,  # Только из списка ниже\n",
    "      \\\"вал\\\": {{\n",
    "        \\\"за_день\\\": int | null,\n",
    "        \\\"с_начала\\\": int | null\n",
    "      }} \n",
    "    }}\n",
    "  ]\n",
    "}}\n",
    "\n",
    "Списки для сверки:\n",
    "- Операции:\n",
    "    - 1-я междурядная культивация\n",
    "    - 2-я междурядная культивация\n",
    "    - Боронование довсходовое\n",
    "    - Внесение минеральных удобрений\n",
    "    - Выравнивание зяби\n",
    "    - 2-е Выравнивание зяби\n",
    "    - Гербицидная обработка\n",
    "    - 1 Гербицидная обработка\n",
    "    - 2 Гербицидная обработка\n",
    "    - 3 Гербицидная обработка\n",
    "    - 4 Гербицидная обработка\n",
    "    - Дискование\n",
    "    - 2-е Дискование\n",
    "    - Инсектицидная обработка\n",
    "    - Культивация\n",
    "    - Пахота\n",
    "    - Подкормка\n",
    "    - Предпосевная культивация\n",
    "    - Прикатывание посевов\n",
    "    - Сев\n",
    "    - Сплошная культивация\n",
    "    - Уборка\n",
    "    - Фунгицидная обработка\n",
    "    - Чизлевание\n",
    "\n",
    "- Подразделения:\n",
    "    - АОР\n",
    "    - ТСК\n",
    "    - АО Кропоткинское\n",
    "    - Восход\n",
    "    - Колхоз Прогресс\n",
    "    - Мир\n",
    "    - СП Коломейцево\n",
    "\n",
    "- Растительные культуры:\n",
    "    - Вика+Тритикале\n",
    "    - Горох на зерно\n",
    "    - Горох товарный\n",
    "    - Гуар\n",
    "    - Конопля\n",
    "    - Кориандр\n",
    "    - Кукуруза кормовая\n",
    "    - Кукуруза семенная\n",
    "    - Кукуруза товарная\n",
    "    - Люцерна\n",
    "    - Многолетние злаковые травы\n",
    "    - Многолетние травы прошлых лет\n",
    "    - Многолетние травы текущего года\n",
    "    - Овес\n",
    "    - Подсолнечник кондитерский\n",
    "    - Подсолнечник семенной\n",
    "    - Подсолнечник товарный\n",
    "    - Просо\n",
    "    - Пшеница озимая на зеленый корм\n",
    "    - Пшеница озимая семенная\n",
    "    - Пшеница озимая товарная\n",
    "    - Рапс озимый\n",
    "    - Рапс яровой\n",
    "    - Свекла сахарная\n",
    "    - Сорго\n",
    "    - Сорго кормовой\n",
    "    - Сорго-суданковый гибрид\n",
    "    - Соя семенная\n",
    "    - Соя товарная\n",
    "    - Чистый пар\n",
    "    - Чумиза\n",
    "    - Ячмень озимый\n",
    "    - Ячмень озимый семенной\n",
    "\n",
    "Правила:\n",
    "- Если под строкой операции и строки \"По ПУ X/Y\" следуют несколько строк вида \"Отд X Y/Z\", они считаются частью одной и той же операции. Все отделения наследуют название операции, культуру и данные \"площадь_по_ПУ\".\n",
    "- Если строка с «Отд X Y/Z» (отделение) расположена после строки с «По ПУ» (или её вариантов) и между ними нет новой операции, то она также относится к текущей операции. Заполни её в поле \"отделение\" и \"площадь\".\n",
    "- Если в сообщении указано одно подразделение (например, \\\"СП Коломейцево\\\") в начале, до описания операций, оно применяется ко всем операциям в этом сообщении.\n",
    "- Если указано только отделение числом (например, \\\"Отд 11\\\"), автоматически привязывай подразделение \\\"АОР\\\".\n",
    "- Для следующих отделений также автоматически устанавливай подразделение \\\"АОР\\\": 1, 3, 4, 5, 6, 7, 9, 10, 11, 12, 16, 17, 18, 19, 20.\n",
    "- Поддерживай отделения, записанные как \\\"Отделение X/Y\\\" или \\\"Отделение X Y/Z\\\" (аналогично \\\"Отд\\\").\n",
    "- Если указана операция вида \\\"X-е диск\\\", \\\"X-е выравн\\\", интерпретируй их как \\\"X-е Дискование\\\" или \\\"X-е Выравнивание зяби\\\" соответственно, если это допустимо по логике.\n",
    "- Если операция упоминает культуру в сокращённой форме (например, \\\"сах св\\\", \\\"пш\\\", \\\"подс\\\", \\\"соии\\\"), попытайся распознать и сопоставить с полной формой из утверждённого списка культур.\n",
    "- Если в названии операции указана культура (например, \\\"Диск оз пшеницы\\\"), попытайся извлечь культуру как часть названия и соотнести её с утверждённым списком культур.\n",
    "- Если указан \\\"Вал\\\" внутри описания конкретной операции (например, рядом с площадью или культурой), то он должен быть привязан именно к этой операции. В этом случае добавь поле \\\"вал\\\" внутрь соответствующего объекта операции.\n",
    "- Если указано значение \\\"Вал\\\" (например, \\\"Вал 1259680/6660630\\\"), то первое число — \\\"за_день\\\", второе — \\\"с_начала\\\". Заполни соответствующее поле \\\"вал\\\".\n",
    "- Если встречаются значения \\\"Вал за день\\\" и \\\"Вал с начала\\\" (например, \\\"Вал 58720\\\", \\\"Вал 1259680/6660630\\\"), извлекай их как отдельные значения, где первое число — вал за день, второе — вал с начала. Эти значения не входят в блок \\\"операции\\\", но могут быть полезны для дополнительного анализа.\n",
    "- Если в сообщении указана дата (например, \\\"15.10\\\", \\\"14.11.2024\\\", \\\"30.03.25г\\\" и т.п.), извлеки её и заполни поле \\\"дата\\\". Это значение применяется ко всем операциям.\n",
    "- Название операций может содержать порядковый номер (например, \\\"2-е дискование\\\", \\\"3-е дискование\\\"). Всегда преобразуй такие операции к формату \\\"Дискование N-е\\\" с правильной нумерацией, если они входят в утверждённый список или логически продолжают его.\n",
    "- Если данные об отделении указаны в формате \\\"Отд X Y/Z\\\" или \\\"Отд X-Y/Z\\\", интерпретируй X как номер отделения, а Y как \\\"за_день\\\", Z как \\\"c_начала_операции\\\" для поля \\\"площадь\\\".\n",
    "- Если данных недостаточно, поставь null.\n",
    "- Ничего не придумывай от себя.\n",
    "- Если в тексте несколько операций, каждая должна быть отдельным элементом массива.\n",
    "- Поле подразделение может отсутствовать в сообщении. Если подразделение указано одно для всех операций, применяй его ко всем операциям.\n",
    "- Поле отделение может быть разным для разных операций в одном сообщении.\n",
    "- Если площадь указана в формате X/Y (например, 15/775 или По ПУ 15/1382), интерпретируй X как \\\"за_день\\\", а Y как \\\"c_начала_операции\\\".\n",
    "- Поддерживай разные написания фразы \\\"По ПУ\\\": \\\"ПоПу\\\", \\\"ПУ\\\", \\\"По Пу\\\" — все должны трактоваться одинаково как \\\"площадь_по_ПУ\\\".\n",
    "- Если операция содержит слово «внесение», анализируй его контекст:\n",
    "    - Если есть слова «гербицид», «гербицидная», «гербицида» — классифицируй как «Гербицидная обработка».\n",
    "    - Если есть слова «минеральные удобрения», «удобрений», «КАС» — классифицируй как «Внесение минеральных удобрений».\n",
    "    - В противном случае — ставь null или используй ближайший допустимый контекст.\n",
    "\"\"\"\n"
   ],
   "outputs": [],
   "execution_count": 69
  },
  {
   "cell_type": "code",
   "id": "1cea4b52-f5ec-46b8-823a-3710bcdcfb10",
   "metadata": {
    "ExecuteTime": {
     "end_time": "2025-04-16T09:57:49.679527Z",
     "start_time": "2025-04-16T09:57:49.672394Z"
    }
   },
   "source": [
    "system_prompt = \"\"\"Ты — сельскохозяйственный анализатор данных. \n",
    "\n",
    "**Что нужно извлечь:**\n",
    "1. **Операции** (только из утверждённого списка):\n",
    "    - 1-я междурядная культивация\n",
    "    - 2-я междурядная культивация  \n",
    "    - Боронование довсходовое\n",
    "    - Внесение минеральных удобрений\n",
    "    - Выравнивание зяби\n",
    "    - 2-е Выравнивание зяби\n",
    "    - Гербицидная обработка\n",
    "    - 1 Гербицидная обработка\n",
    "    - 2 Гербицидная обработка\n",
    "    - 3 Гербицидная обработка\n",
    "    - 4 Гербицидная обработка\n",
    "    - Дискование\n",
    "    - Дискование 2-е\n",
    "    - Инсектицидная обработка\n",
    "    - Культивация\n",
    "    - Пахота\n",
    "    - Подкормка\n",
    "    - Предпосевная культивация\n",
    "    - Прикатывание посевов\n",
    "    - Сев\n",
    "    - Сплошная культивация\n",
    "    - Уборка\n",
    "    - Фунгицидная обработка\n",
    "    * Чизлевание\n",
    "2. **Отделение** (например, 10) в value только число, обозначающее отделение. (для каждой операции)\n",
    "3. **Подразделение** (для каждой операции)\n",
    "     - АОР\n",
    "     - ТСК\n",
    "     - АО Кропоткинское\n",
    "     - Восход\n",
    "     - Колхоз Прогресс\n",
    "     - Мир\n",
    "     - СП Коломейцево\n",
    "4. **Площадь** (для каждой операции)\n",
    "    - Если формат `X/Y` → \"за_день\": X, \"c_начала_операции\": Y\n",
    "5. **Площадь по ПУ** (для каждой операции)\n",
    "    - Если формат `ПУ Xга` или просто число → \"c_начала_операции\": X\n",
    "    - Если формат `ПУ X/Y` → \"за_день\": X, \"c_начала_операции\": Y\n",
    "6. **Растительная культура** (для каждой операции) \n",
    "    - Вика+Тритикале\n",
    "    - Горох на зерно\n",
    "    - Горох товарный\n",
    "    - Гуар\n",
    "    - Конопля\n",
    "    - Кориандр\n",
    "    - Кукуруза кормовая\n",
    "    - Кукуруза семенная\n",
    "    - Кукуруза товарная\n",
    "    - Люцерна\n",
    "    - Многолетние злаковые травы\n",
    "    - Многолетние травы прошлых лет\n",
    "    - Многолетние травы текущего года\n",
    "    - Овес\n",
    "    - Подсолнечник кондитерский\n",
    "    - Подсолнечник семенной\n",
    "    - Подсолнечник товарный\n",
    "    - Просо\n",
    "    - Пшеница озимая на зеленый корм\n",
    "    - Пшеница озимая семенная\n",
    "    - Пшеница озимая товарная\n",
    "    - Рапс озимый\n",
    "    - Рапс яровой\n",
    "    - Свекла сахарная\n",
    "    - Сорго\n",
    "    - Сорго кормовой\n",
    "    - Сорго-суданковый гибрид\n",
    "    - Соя семенная\n",
    "    - Соя товарная\n",
    "    - Чистый пар\n",
    "    - Чумиза\n",
    "    - Ячмень озимый\n",
    "    - Ячмень озимый семенной\n",
    "\n",
    "**Правила:**\n",
    "- Если данные неполные или неясные, всегда используй null для пропущенных полей.\n",
    "- Если не можешь идентифицировать необходимые данные, укажи `null` для пропущенных полей.\n",
    "- Не придумывай ничего от себя. Только факты из текста.\n",
    "- Если сообщение содержит несколько операций, извлеки информацию отдельно по каждой операции и представь их массивом объектов.\n",
    "- Поле подразделение может отсутствовать в сообщении. Если подразделение указано одно для всех операций, применяй его ко всем операциям.\n",
    "- Поле отделение может быть разным для разных операций в одном сообщении.\n",
    "\n",
    "\"\"\"\n"
   ],
   "outputs": [],
   "execution_count": 70
  },
  {
   "cell_type": "code",
   "id": "d79ac95a-0189-435f-8843-05b0b7753375",
   "metadata": {
    "ExecuteTime": {
     "end_time": "2025-04-16T09:57:49.695695Z",
     "start_time": "2025-04-16T09:57:49.689121Z"
    }
   },
   "source": [
    "def init_model(message: str):\n",
    "    prompt = ChatPromptTemplate.from_messages([\n",
    "        SystemMessagePromptTemplate.from_template(new_system_prompt),\n",
    "        HumanMessagePromptTemplate.from_template(\"{input}\") \n",
    "        ])\n",
    "    examples = [\n",
    "        {\n",
    "            \"input\": \"\",\n",
    "            \"output\": \"\"\n",
    "        }\n",
    "        ]\n",
    "    example_prompt = ChatPromptTemplate.from_messages([\n",
    "        (\"human\", \"{input}\"),\n",
    "        (\"ai\", \"{output}\")\n",
    "    ])\n",
    "    \n",
    "    few_shot_prompt = FewShotChatMessagePromptTemplate(\n",
    "        example_prompt=example_prompt,\n",
    "        examples=examples)\n",
    "    final_prompt = ChatPromptTemplate.from_messages([\n",
    "        SystemMessagePromptTemplate.from_template(system_prompt),\n",
    "        few_shot_prompt,\n",
    "        HumanMessagePromptTemplate.from_template(\"{input}\")\n",
    "    ])\n",
    "    \n",
    "    chain = prompt | model \n",
    "    response = chain.invoke({\"input\": message})\n",
    "    cleaned = re.sub(r'^```(json)?|```$', '', response, flags=re.MULTILINE).strip()\n",
    "    \n",
    "    return json.loads(cleaned)"
   ],
   "outputs": [],
   "execution_count": 71
  },
  {
   "cell_type": "code",
   "id": "bbd724fe-2a88-4366-91ab-4d5ae046e4cb",
   "metadata": {
    "ExecuteTime": {
     "end_time": "2025-04-16T09:57:49.710226Z",
     "start_time": "2025-04-16T09:57:49.704547Z"
    }
   },
   "source": [
    "message = \"\"\"\n",
    "Уборка свеклы 27.10.день\n",
    "Отд10-124/216\n",
    "По ПУ 124/3104\n",
    "Вал 1259680/6660630\n",
    "Урожайность 279,9/308,3\n",
    "По ПУ 1259680/41630600\n",
    "На завод 1811630/6430580\n",
    "По ПУ 1811630/41400550\n",
    "Положено в кагат 399400\n",
    "Вввезено с кагата 951340\n",
    "Остаток 230060\n",
    "Оз-9,04/12,58\n",
    "Дигестия-14,50/15,05\n",
    "\"\"\"\n",
    "\n"
   ],
   "outputs": [],
   "execution_count": 72
  },
  {
   "cell_type": "code",
   "id": "c8ea82a1-41dd-48d3-bb55-e3d0afee38c0",
   "metadata": {
    "ExecuteTime": {
     "end_time": "2025-04-16T09:57:55.542475Z",
     "start_time": "2025-04-16T09:57:49.727371Z"
    }
   },
   "source": [
    "out = init_model(message)\n",
    "out"
   ],
   "outputs": [
    {
     "ename": "TypeError",
     "evalue": "expected string or bytes-like object, got 'AIMessage'",
     "output_type": "error",
     "traceback": [
      "\u001B[31m---------------------------------------------------------------------------\u001B[39m",
      "\u001B[31mTypeError\u001B[39m                                 Traceback (most recent call last)",
      "\u001B[36mCell\u001B[39m\u001B[36m \u001B[39m\u001B[32mIn[73]\u001B[39m\u001B[32m, line 1\u001B[39m\n\u001B[32m----> \u001B[39m\u001B[32m1\u001B[39m out = \u001B[43minit_model\u001B[49m\u001B[43m(\u001B[49m\u001B[43mmessage\u001B[49m\u001B[43m)\u001B[49m\n\u001B[32m      2\u001B[39m out\n",
      "\u001B[36mCell\u001B[39m\u001B[36m \u001B[39m\u001B[32mIn[71]\u001B[39m\u001B[32m, line 28\u001B[39m, in \u001B[36minit_model\u001B[39m\u001B[34m(message)\u001B[39m\n\u001B[32m     26\u001B[39m chain = prompt | model \n\u001B[32m     27\u001B[39m response = chain.invoke({\u001B[33m\"\u001B[39m\u001B[33minput\u001B[39m\u001B[33m\"\u001B[39m: message})\n\u001B[32m---> \u001B[39m\u001B[32m28\u001B[39m cleaned = \u001B[43mre\u001B[49m\u001B[43m.\u001B[49m\u001B[43msub\u001B[49m\u001B[43m(\u001B[49m\u001B[33;43mr\u001B[39;49m\u001B[33;43m'\u001B[39;49m\u001B[33;43m^```(json)?|```$\u001B[39;49m\u001B[33;43m'\u001B[39;49m\u001B[43m,\u001B[49m\u001B[43m \u001B[49m\u001B[33;43m'\u001B[39;49m\u001B[33;43m'\u001B[39;49m\u001B[43m,\u001B[49m\u001B[43m \u001B[49m\u001B[43mresponse\u001B[49m\u001B[43m,\u001B[49m\u001B[43m \u001B[49m\u001B[43mflags\u001B[49m\u001B[43m=\u001B[49m\u001B[43mre\u001B[49m\u001B[43m.\u001B[49m\u001B[43mMULTILINE\u001B[49m\u001B[43m)\u001B[49m.strip()\n\u001B[32m     30\u001B[39m \u001B[38;5;28;01mreturn\u001B[39;00m json.loads(cleaned)\n",
      "\u001B[36mFile \u001B[39m\u001B[32m~\\AppData\\Local\\Programs\\Python\\Python312\\Lib\\re\\__init__.py:186\u001B[39m, in \u001B[36msub\u001B[39m\u001B[34m(pattern, repl, string, count, flags)\u001B[39m\n\u001B[32m    179\u001B[39m \u001B[38;5;28;01mdef\u001B[39;00m\u001B[38;5;250m \u001B[39m\u001B[34msub\u001B[39m(pattern, repl, string, count=\u001B[32m0\u001B[39m, flags=\u001B[32m0\u001B[39m):\n\u001B[32m    180\u001B[39m \u001B[38;5;250m    \u001B[39m\u001B[33;03m\"\"\"Return the string obtained by replacing the leftmost\u001B[39;00m\n\u001B[32m    181\u001B[39m \u001B[33;03m    non-overlapping occurrences of the pattern in string by the\u001B[39;00m\n\u001B[32m    182\u001B[39m \u001B[33;03m    replacement repl.  repl can be either a string or a callable;\u001B[39;00m\n\u001B[32m    183\u001B[39m \u001B[33;03m    if a string, backslash escapes in it are processed.  If it is\u001B[39;00m\n\u001B[32m    184\u001B[39m \u001B[33;03m    a callable, it's passed the Match object and must return\u001B[39;00m\n\u001B[32m    185\u001B[39m \u001B[33;03m    a replacement string to be used.\"\"\"\u001B[39;00m\n\u001B[32m--> \u001B[39m\u001B[32m186\u001B[39m     \u001B[38;5;28;01mreturn\u001B[39;00m \u001B[43m_compile\u001B[49m\u001B[43m(\u001B[49m\u001B[43mpattern\u001B[49m\u001B[43m,\u001B[49m\u001B[43m \u001B[49m\u001B[43mflags\u001B[49m\u001B[43m)\u001B[49m\u001B[43m.\u001B[49m\u001B[43msub\u001B[49m\u001B[43m(\u001B[49m\u001B[43mrepl\u001B[49m\u001B[43m,\u001B[49m\u001B[43m \u001B[49m\u001B[43mstring\u001B[49m\u001B[43m,\u001B[49m\u001B[43m \u001B[49m\u001B[43mcount\u001B[49m\u001B[43m)\u001B[49m\n",
      "\u001B[31mTypeError\u001B[39m: expected string or bytes-like object, got 'AIMessage'"
     ]
    }
   ],
   "execution_count": 73
  },
  {
   "cell_type": "code",
   "id": "eba36c57-8f50-49dd-9b71-2af01d90c0a2",
   "metadata": {
    "ExecuteTime": {
     "end_time": "2025-04-16T09:56:52.110842Z",
     "start_time": "2025-04-16T09:56:52.104593Z"
    }
   },
   "source": [
    "message = \"\"\"\n",
    "Пахота зяби под сою\n",
    "По Пу 15/1382\n",
    "Отд 16 15/775\n",
    "\n",
    "Пахота зяби под мн тр\n",
    "По Пу 13/527\n",
    "Отд 12 13/260\n",
    "\n",
    "2-е диск сои под пшен\n",
    "По Пу 87/2076\n",
    "Отд 12 87/386\n",
    "\n",
    "2-е диск сах св под пш\n",
    "По Пу 149/899\n",
    "Отд 17 149/232\n",
    "\n",
    "3-е диск подсол под пш\n",
    "По Пу 47/949\n",
    "Отд 11 47/47\n",
    "\n",
    "Предп культ под оз пш\n",
    "По Пу 95/1312\n",
    "Отд 11 95/328\"\n",
    "\"\"\""
   ],
   "outputs": [],
   "execution_count": 55
  },
  {
   "cell_type": "code",
   "id": "fcb75780-f200-4581-b440-114af21a04c0",
   "metadata": {
    "ExecuteTime": {
     "end_time": "2025-04-16T09:56:52.525264Z",
     "start_time": "2025-04-16T09:56:52.295401Z"
    }
   },
   "source": [
    "out = init_model(message)\n",
    "out"
   ],
   "outputs": [
    {
     "ename": "ModuleNotFoundError",
     "evalue": "No module named 'grpc'",
     "output_type": "error",
     "traceback": [
      "\u001B[31m---------------------------------------------------------------------------\u001B[39m",
      "\u001B[31mModuleNotFoundError\u001B[39m                       Traceback (most recent call last)",
      "\u001B[36mCell\u001B[39m\u001B[36m \u001B[39m\u001B[32mIn[56]\u001B[39m\u001B[32m, line 1\u001B[39m\n\u001B[32m----> \u001B[39m\u001B[32m1\u001B[39m out = \u001B[43minit_model\u001B[49m\u001B[43m(\u001B[49m\u001B[43mmessage\u001B[49m\u001B[43m)\u001B[49m\n\u001B[32m      2\u001B[39m out\n",
      "\u001B[36mCell\u001B[39m\u001B[36m \u001B[39m\u001B[32mIn[52]\u001B[39m\u001B[32m, line 27\u001B[39m, in \u001B[36minit_model\u001B[39m\u001B[34m(message)\u001B[39m\n\u001B[32m     20\u001B[39m final_prompt = ChatPromptTemplate.from_messages([\n\u001B[32m     21\u001B[39m     SystemMessagePromptTemplate.from_template(system_prompt),\n\u001B[32m     22\u001B[39m     few_shot_prompt,\n\u001B[32m     23\u001B[39m     HumanMessagePromptTemplate.from_template(\u001B[33m\"\u001B[39m\u001B[38;5;132;01m{input}\u001B[39;00m\u001B[33m\"\u001B[39m)\n\u001B[32m     24\u001B[39m ])\n\u001B[32m     26\u001B[39m chain = prompt | model \n\u001B[32m---> \u001B[39m\u001B[32m27\u001B[39m response = \u001B[43mchain\u001B[49m\u001B[43m.\u001B[49m\u001B[43minvoke\u001B[49m\u001B[43m(\u001B[49m\u001B[43m{\u001B[49m\u001B[33;43m\"\u001B[39;49m\u001B[33;43minput\u001B[39;49m\u001B[33;43m\"\u001B[39;49m\u001B[43m:\u001B[49m\u001B[43m \u001B[49m\u001B[43mmessage\u001B[49m\u001B[43m}\u001B[49m\u001B[43m)\u001B[49m\n\u001B[32m     28\u001B[39m cleaned = re.sub(\u001B[33mr\u001B[39m\u001B[33m'\u001B[39m\u001B[33m^```(json)?|```$\u001B[39m\u001B[33m'\u001B[39m, \u001B[33m'\u001B[39m\u001B[33m'\u001B[39m, response, flags=re.MULTILINE).strip()\n\u001B[32m     30\u001B[39m \u001B[38;5;28;01mreturn\u001B[39;00m json.loads(cleaned)\n",
      "\u001B[36mFile \u001B[39m\u001B[32mD:\\bioinfo\\itmo\\agro-hack\\agro-hack\\.venv\\Lib\\site-packages\\langchain_core\\runnables\\base.py:3034\u001B[39m, in \u001B[36mRunnableSequence.invoke\u001B[39m\u001B[34m(self, input, config, **kwargs)\u001B[39m\n\u001B[32m   3032\u001B[39m                 \u001B[38;5;28minput\u001B[39m = context.run(step.invoke, \u001B[38;5;28minput\u001B[39m, config, **kwargs)\n\u001B[32m   3033\u001B[39m             \u001B[38;5;28;01melse\u001B[39;00m:\n\u001B[32m-> \u001B[39m\u001B[32m3034\u001B[39m                 \u001B[38;5;28minput\u001B[39m = \u001B[43mcontext\u001B[49m\u001B[43m.\u001B[49m\u001B[43mrun\u001B[49m\u001B[43m(\u001B[49m\u001B[43mstep\u001B[49m\u001B[43m.\u001B[49m\u001B[43minvoke\u001B[49m\u001B[43m,\u001B[49m\u001B[43m \u001B[49m\u001B[38;5;28;43minput\u001B[39;49m\u001B[43m,\u001B[49m\u001B[43m \u001B[49m\u001B[43mconfig\u001B[49m\u001B[43m)\u001B[49m\n\u001B[32m   3035\u001B[39m \u001B[38;5;66;03m# finish the root run\u001B[39;00m\n\u001B[32m   3036\u001B[39m \u001B[38;5;28;01mexcept\u001B[39;00m \u001B[38;5;167;01mBaseException\u001B[39;00m \u001B[38;5;28;01mas\u001B[39;00m e:\n",
      "\u001B[36mFile \u001B[39m\u001B[32mD:\\bioinfo\\itmo\\agro-hack\\agro-hack\\.venv\\Lib\\site-packages\\langchain_core\\language_models\\chat_models.py:368\u001B[39m, in \u001B[36mBaseChatModel.invoke\u001B[39m\u001B[34m(self, input, config, stop, **kwargs)\u001B[39m\n\u001B[32m    356\u001B[39m \u001B[38;5;129m@override\u001B[39m\n\u001B[32m    357\u001B[39m \u001B[38;5;28;01mdef\u001B[39;00m\u001B[38;5;250m \u001B[39m\u001B[34minvoke\u001B[39m(\n\u001B[32m    358\u001B[39m     \u001B[38;5;28mself\u001B[39m,\n\u001B[32m   (...)\u001B[39m\u001B[32m    363\u001B[39m     **kwargs: Any,\n\u001B[32m    364\u001B[39m ) -> BaseMessage:\n\u001B[32m    365\u001B[39m     config = ensure_config(config)\n\u001B[32m    366\u001B[39m     \u001B[38;5;28;01mreturn\u001B[39;00m cast(\n\u001B[32m    367\u001B[39m         \u001B[33m\"\u001B[39m\u001B[33mChatGeneration\u001B[39m\u001B[33m\"\u001B[39m,\n\u001B[32m--> \u001B[39m\u001B[32m368\u001B[39m         \u001B[38;5;28;43mself\u001B[39;49m\u001B[43m.\u001B[49m\u001B[43mgenerate_prompt\u001B[49m\u001B[43m(\u001B[49m\n\u001B[32m    369\u001B[39m \u001B[43m            \u001B[49m\u001B[43m[\u001B[49m\u001B[38;5;28;43mself\u001B[39;49m\u001B[43m.\u001B[49m\u001B[43m_convert_input\u001B[49m\u001B[43m(\u001B[49m\u001B[38;5;28;43minput\u001B[39;49m\u001B[43m)\u001B[49m\u001B[43m]\u001B[49m\u001B[43m,\u001B[49m\n\u001B[32m    370\u001B[39m \u001B[43m            \u001B[49m\u001B[43mstop\u001B[49m\u001B[43m=\u001B[49m\u001B[43mstop\u001B[49m\u001B[43m,\u001B[49m\n\u001B[32m    371\u001B[39m \u001B[43m            \u001B[49m\u001B[43mcallbacks\u001B[49m\u001B[43m=\u001B[49m\u001B[43mconfig\u001B[49m\u001B[43m.\u001B[49m\u001B[43mget\u001B[49m\u001B[43m(\u001B[49m\u001B[33;43m\"\u001B[39;49m\u001B[33;43mcallbacks\u001B[39;49m\u001B[33;43m\"\u001B[39;49m\u001B[43m)\u001B[49m\u001B[43m,\u001B[49m\n\u001B[32m    372\u001B[39m \u001B[43m            \u001B[49m\u001B[43mtags\u001B[49m\u001B[43m=\u001B[49m\u001B[43mconfig\u001B[49m\u001B[43m.\u001B[49m\u001B[43mget\u001B[49m\u001B[43m(\u001B[49m\u001B[33;43m\"\u001B[39;49m\u001B[33;43mtags\u001B[39;49m\u001B[33;43m\"\u001B[39;49m\u001B[43m)\u001B[49m\u001B[43m,\u001B[49m\n\u001B[32m    373\u001B[39m \u001B[43m            \u001B[49m\u001B[43mmetadata\u001B[49m\u001B[43m=\u001B[49m\u001B[43mconfig\u001B[49m\u001B[43m.\u001B[49m\u001B[43mget\u001B[49m\u001B[43m(\u001B[49m\u001B[33;43m\"\u001B[39;49m\u001B[33;43mmetadata\u001B[39;49m\u001B[33;43m\"\u001B[39;49m\u001B[43m)\u001B[49m\u001B[43m,\u001B[49m\n\u001B[32m    374\u001B[39m \u001B[43m            \u001B[49m\u001B[43mrun_name\u001B[49m\u001B[43m=\u001B[49m\u001B[43mconfig\u001B[49m\u001B[43m.\u001B[49m\u001B[43mget\u001B[49m\u001B[43m(\u001B[49m\u001B[33;43m\"\u001B[39;49m\u001B[33;43mrun_name\u001B[39;49m\u001B[33;43m\"\u001B[39;49m\u001B[43m)\u001B[49m\u001B[43m,\u001B[49m\n\u001B[32m    375\u001B[39m \u001B[43m            \u001B[49m\u001B[43mrun_id\u001B[49m\u001B[43m=\u001B[49m\u001B[43mconfig\u001B[49m\u001B[43m.\u001B[49m\u001B[43mpop\u001B[49m\u001B[43m(\u001B[49m\u001B[33;43m\"\u001B[39;49m\u001B[33;43mrun_id\u001B[39;49m\u001B[33;43m\"\u001B[39;49m\u001B[43m,\u001B[49m\u001B[43m \u001B[49m\u001B[38;5;28;43;01mNone\u001B[39;49;00m\u001B[43m)\u001B[49m\u001B[43m,\u001B[49m\n\u001B[32m    376\u001B[39m \u001B[43m            \u001B[49m\u001B[43m*\u001B[49m\u001B[43m*\u001B[49m\u001B[43mkwargs\u001B[49m\u001B[43m,\u001B[49m\n\u001B[32m    377\u001B[39m \u001B[43m        \u001B[49m\u001B[43m)\u001B[49m.generations[\u001B[32m0\u001B[39m][\u001B[32m0\u001B[39m],\n\u001B[32m    378\u001B[39m     ).message\n",
      "\u001B[36mFile \u001B[39m\u001B[32mD:\\bioinfo\\itmo\\agro-hack\\agro-hack\\.venv\\Lib\\site-packages\\langchain_core\\language_models\\chat_models.py:937\u001B[39m, in \u001B[36mBaseChatModel.generate_prompt\u001B[39m\u001B[34m(self, prompts, stop, callbacks, **kwargs)\u001B[39m\n\u001B[32m    928\u001B[39m \u001B[38;5;129m@override\u001B[39m\n\u001B[32m    929\u001B[39m \u001B[38;5;28;01mdef\u001B[39;00m\u001B[38;5;250m \u001B[39m\u001B[34mgenerate_prompt\u001B[39m(\n\u001B[32m    930\u001B[39m     \u001B[38;5;28mself\u001B[39m,\n\u001B[32m   (...)\u001B[39m\u001B[32m    934\u001B[39m     **kwargs: Any,\n\u001B[32m    935\u001B[39m ) -> LLMResult:\n\u001B[32m    936\u001B[39m     prompt_messages = [p.to_messages() \u001B[38;5;28;01mfor\u001B[39;00m p \u001B[38;5;129;01min\u001B[39;00m prompts]\n\u001B[32m--> \u001B[39m\u001B[32m937\u001B[39m     \u001B[38;5;28;01mreturn\u001B[39;00m \u001B[38;5;28;43mself\u001B[39;49m\u001B[43m.\u001B[49m\u001B[43mgenerate\u001B[49m\u001B[43m(\u001B[49m\u001B[43mprompt_messages\u001B[49m\u001B[43m,\u001B[49m\u001B[43m \u001B[49m\u001B[43mstop\u001B[49m\u001B[43m=\u001B[49m\u001B[43mstop\u001B[49m\u001B[43m,\u001B[49m\u001B[43m \u001B[49m\u001B[43mcallbacks\u001B[49m\u001B[43m=\u001B[49m\u001B[43mcallbacks\u001B[49m\u001B[43m,\u001B[49m\u001B[43m \u001B[49m\u001B[43m*\u001B[49m\u001B[43m*\u001B[49m\u001B[43mkwargs\u001B[49m\u001B[43m)\u001B[49m\n",
      "\u001B[36mFile \u001B[39m\u001B[32mD:\\bioinfo\\itmo\\agro-hack\\agro-hack\\.venv\\Lib\\site-packages\\langchain_core\\language_models\\chat_models.py:759\u001B[39m, in \u001B[36mBaseChatModel.generate\u001B[39m\u001B[34m(self, messages, stop, callbacks, tags, metadata, run_name, run_id, **kwargs)\u001B[39m\n\u001B[32m    756\u001B[39m \u001B[38;5;28;01mfor\u001B[39;00m i, m \u001B[38;5;129;01min\u001B[39;00m \u001B[38;5;28menumerate\u001B[39m(messages):\n\u001B[32m    757\u001B[39m     \u001B[38;5;28;01mtry\u001B[39;00m:\n\u001B[32m    758\u001B[39m         results.append(\n\u001B[32m--> \u001B[39m\u001B[32m759\u001B[39m             \u001B[38;5;28;43mself\u001B[39;49m\u001B[43m.\u001B[49m\u001B[43m_generate_with_cache\u001B[49m\u001B[43m(\u001B[49m\n\u001B[32m    760\u001B[39m \u001B[43m                \u001B[49m\u001B[43mm\u001B[49m\u001B[43m,\u001B[49m\n\u001B[32m    761\u001B[39m \u001B[43m                \u001B[49m\u001B[43mstop\u001B[49m\u001B[43m=\u001B[49m\u001B[43mstop\u001B[49m\u001B[43m,\u001B[49m\n\u001B[32m    762\u001B[39m \u001B[43m                \u001B[49m\u001B[43mrun_manager\u001B[49m\u001B[43m=\u001B[49m\u001B[43mrun_managers\u001B[49m\u001B[43m[\u001B[49m\u001B[43mi\u001B[49m\u001B[43m]\u001B[49m\u001B[43m \u001B[49m\u001B[38;5;28;43;01mif\u001B[39;49;00m\u001B[43m \u001B[49m\u001B[43mrun_managers\u001B[49m\u001B[43m \u001B[49m\u001B[38;5;28;43;01melse\u001B[39;49;00m\u001B[43m \u001B[49m\u001B[38;5;28;43;01mNone\u001B[39;49;00m\u001B[43m,\u001B[49m\n\u001B[32m    763\u001B[39m \u001B[43m                \u001B[49m\u001B[43m*\u001B[49m\u001B[43m*\u001B[49m\u001B[43mkwargs\u001B[49m\u001B[43m,\u001B[49m\n\u001B[32m    764\u001B[39m \u001B[43m            \u001B[49m\u001B[43m)\u001B[49m\n\u001B[32m    765\u001B[39m         )\n\u001B[32m    766\u001B[39m     \u001B[38;5;28;01mexcept\u001B[39;00m \u001B[38;5;167;01mBaseException\u001B[39;00m \u001B[38;5;28;01mas\u001B[39;00m e:\n\u001B[32m    767\u001B[39m         \u001B[38;5;28;01mif\u001B[39;00m run_managers:\n",
      "\u001B[36mFile \u001B[39m\u001B[32mD:\\bioinfo\\itmo\\agro-hack\\agro-hack\\.venv\\Lib\\site-packages\\langchain_core\\language_models\\chat_models.py:1002\u001B[39m, in \u001B[36mBaseChatModel._generate_with_cache\u001B[39m\u001B[34m(self, messages, stop, run_manager, **kwargs)\u001B[39m\n\u001B[32m   1000\u001B[39m     result = generate_from_stream(\u001B[38;5;28miter\u001B[39m(chunks))\n\u001B[32m   1001\u001B[39m \u001B[38;5;28;01melif\u001B[39;00m inspect.signature(\u001B[38;5;28mself\u001B[39m._generate).parameters.get(\u001B[33m\"\u001B[39m\u001B[33mrun_manager\u001B[39m\u001B[33m\"\u001B[39m):\n\u001B[32m-> \u001B[39m\u001B[32m1002\u001B[39m     result = \u001B[38;5;28;43mself\u001B[39;49m\u001B[43m.\u001B[49m\u001B[43m_generate\u001B[49m\u001B[43m(\u001B[49m\n\u001B[32m   1003\u001B[39m \u001B[43m        \u001B[49m\u001B[43mmessages\u001B[49m\u001B[43m,\u001B[49m\u001B[43m \u001B[49m\u001B[43mstop\u001B[49m\u001B[43m=\u001B[49m\u001B[43mstop\u001B[49m\u001B[43m,\u001B[49m\u001B[43m \u001B[49m\u001B[43mrun_manager\u001B[49m\u001B[43m=\u001B[49m\u001B[43mrun_manager\u001B[49m\u001B[43m,\u001B[49m\u001B[43m \u001B[49m\u001B[43m*\u001B[49m\u001B[43m*\u001B[49m\u001B[43mkwargs\u001B[49m\n\u001B[32m   1004\u001B[39m \u001B[43m    \u001B[49m\u001B[43m)\u001B[49m\n\u001B[32m   1005\u001B[39m \u001B[38;5;28;01melse\u001B[39;00m:\n\u001B[32m   1006\u001B[39m     result = \u001B[38;5;28mself\u001B[39m._generate(messages, stop=stop, **kwargs)\n",
      "\u001B[36mFile \u001B[39m\u001B[32mD:\\bioinfo\\itmo\\agro-hack\\agro-hack\\.venv\\Lib\\site-packages\\langchain_community\\chat_models\\yandex.py:93\u001B[39m, in \u001B[36mChatYandexGPT._generate\u001B[39m\u001B[34m(self, messages, stop, run_manager, **kwargs)\u001B[39m\n\u001B[32m     74\u001B[39m \u001B[38;5;28;01mdef\u001B[39;00m\u001B[38;5;250m \u001B[39m\u001B[34m_generate\u001B[39m(\n\u001B[32m     75\u001B[39m     \u001B[38;5;28mself\u001B[39m,\n\u001B[32m     76\u001B[39m     messages: List[BaseMessage],\n\u001B[32m   (...)\u001B[39m\u001B[32m     79\u001B[39m     **kwargs: Any,\n\u001B[32m     80\u001B[39m ) -> ChatResult:\n\u001B[32m     81\u001B[39m \u001B[38;5;250m    \u001B[39m\u001B[33;03m\"\"\"Generate next turn in the conversation.\u001B[39;00m\n\u001B[32m     82\u001B[39m \u001B[33;03m    Args:\u001B[39;00m\n\u001B[32m     83\u001B[39m \u001B[33;03m        messages: The history of the conversation as a list of messages.\u001B[39;00m\n\u001B[32m   (...)\u001B[39m\u001B[32m     91\u001B[39m \u001B[33;03m        ValueError: if the last message in the list is not from human.\u001B[39;00m\n\u001B[32m     92\u001B[39m \u001B[33;03m    \"\"\"\u001B[39;00m\n\u001B[32m---> \u001B[39m\u001B[32m93\u001B[39m     text = \u001B[43mcompletion_with_retry\u001B[49m\u001B[43m(\u001B[49m\u001B[38;5;28;43mself\u001B[39;49m\u001B[43m,\u001B[49m\u001B[43m \u001B[49m\u001B[43mmessages\u001B[49m\u001B[43m=\u001B[49m\u001B[43mmessages\u001B[49m\u001B[43m)\u001B[49m\n\u001B[32m     94\u001B[39m     text = text \u001B[38;5;28;01mif\u001B[39;00m stop \u001B[38;5;129;01mis\u001B[39;00m \u001B[38;5;28;01mNone\u001B[39;00m \u001B[38;5;28;01melse\u001B[39;00m enforce_stop_tokens(text, stop)\n\u001B[32m     95\u001B[39m     message = AIMessage(content=text)\n",
      "\u001B[36mFile \u001B[39m\u001B[32mD:\\bioinfo\\itmo\\agro-hack\\agro-hack\\.venv\\Lib\\site-packages\\langchain_community\\chat_models\\yandex.py:266\u001B[39m, in \u001B[36mcompletion_with_retry\u001B[39m\u001B[34m(llm, **kwargs)\u001B[39m\n\u001B[32m    264\u001B[39m \u001B[38;5;28;01mdef\u001B[39;00m\u001B[38;5;250m \u001B[39m\u001B[34mcompletion_with_retry\u001B[39m(llm: ChatYandexGPT, **kwargs: Any) -> Any:\n\u001B[32m    265\u001B[39m \u001B[38;5;250m    \u001B[39m\u001B[33;03m\"\"\"Use tenacity to retry the completion call.\"\"\"\u001B[39;00m\n\u001B[32m--> \u001B[39m\u001B[32m266\u001B[39m     retry_decorator = \u001B[43m_create_retry_decorator\u001B[49m\u001B[43m(\u001B[49m\u001B[43mllm\u001B[49m\u001B[43m)\u001B[49m\n\u001B[32m    268\u001B[39m     \u001B[38;5;129m@retry_decorator\u001B[39m\n\u001B[32m    269\u001B[39m     \u001B[38;5;28;01mdef\u001B[39;00m\u001B[38;5;250m \u001B[39m\u001B[34m_completion_with_retry\u001B[39m(**_kwargs: Any) -> Any:\n\u001B[32m    270\u001B[39m         \u001B[38;5;28;01mreturn\u001B[39;00m _make_request(llm, **_kwargs)\n",
      "\u001B[36mFile \u001B[39m\u001B[32mD:\\bioinfo\\itmo\\agro-hack\\agro-hack\\.venv\\Lib\\site-packages\\langchain_community\\chat_models\\yandex.py:251\u001B[39m, in \u001B[36m_create_retry_decorator\u001B[39m\u001B[34m(llm)\u001B[39m\n\u001B[32m    250\u001B[39m \u001B[38;5;28;01mdef\u001B[39;00m\u001B[38;5;250m \u001B[39m\u001B[34m_create_retry_decorator\u001B[39m(llm: ChatYandexGPT) -> Callable[[Any], Any]:\n\u001B[32m--> \u001B[39m\u001B[32m251\u001B[39m     \u001B[38;5;28;01mfrom\u001B[39;00m\u001B[38;5;250m \u001B[39m\u001B[34;01mgrpc\u001B[39;00m\u001B[38;5;250m \u001B[39m\u001B[38;5;28;01mimport\u001B[39;00m RpcError\n\u001B[32m    253\u001B[39m     min_seconds = llm.sleep_interval\n\u001B[32m    254\u001B[39m     max_seconds = \u001B[32m60\u001B[39m\n",
      "\u001B[31mModuleNotFoundError\u001B[39m: No module named 'grpc'"
     ]
    }
   ],
   "execution_count": 56
  },
  {
   "cell_type": "code",
   "execution_count": 495,
   "id": "1dcb3838-6f8b-48f1-9f41-faf1f5e1a3b2",
   "metadata": {},
   "outputs": [],
   "source": [
    "message = \"\"\"\n",
    "14.11 Мир\n",
    "Пахота зяби под кукурузу 57 га день, 562 га от начала, 83%, 110 га остаток.\n",
    "Пахота зяби под сою 60 га день, 799 га от начала, 70%, 340 га остаток.\n",
    "Работало 5 агрегатов.\n",
    "Выравнивание зяби под сахарную свёклу 130 га день, 874 га от начала, 92 %, 78 га остаток.\n",
    "Работал 1 агрегат.\n",
    "\"\"\""
   ]
  },
  {
   "cell_type": "code",
   "execution_count": 496,
   "id": "188789f8-ba75-4027-8a61-4ce39bf990f6",
   "metadata": {},
   "outputs": [
    {
     "data": {
      "text/plain": [
       "{'дата': '14.11',\n",
       " 'операции': [{'операция': 'Пахота',\n",
       "   'отделение': None,\n",
       "   'подразделение': 'Мир',\n",
       "   'площадь': {'за_день': 57, 'c_начала_операции': 562},\n",
       "   'растительная_культура': 'кукуруза',\n",
       "   'вал': None},\n",
       "  {'операция': 'Пахота',\n",
       "   'отделение': None,\n",
       "   'подразделение': 'Мир',\n",
       "   'площадь': {'за_день': 60, 'c_начала_операции': 799},\n",
       "   'растительная_культура': 'соя',\n",
       "   'вал': None},\n",
       "  {'операция': 'Выравнивание зяби',\n",
       "   'отделение': None,\n",
       "   'подразделение': 'Мир',\n",
       "   'площадь': {'за_день': 130, 'c_начала_операции': 874},\n",
       "   'растительная_культура': 'сахарная свёкла',\n",
       "   'вал': None}]}"
      ]
     },
     "execution_count": 496,
     "metadata": {},
     "output_type": "execute_result"
    }
   ],
   "source": [
    "out = init_model(message)\n",
    "out"
   ]
  },
  {
   "cell_type": "code",
   "execution_count": 497,
   "id": "c4c4f448-d7c7-45e9-9ec3-72620843b1d0",
   "metadata": {},
   "outputs": [],
   "source": [
    "message = \"\"\"\n",
    "14.11.24.\n",
    "СП Коломейцево \n",
    "\n",
    "Пахота под сах.св.\n",
    "день 29га\n",
    "от начала 315га(100%)\n",
    "\n",
    "Выравнивание под сахарную свёклу \n",
    "День 20га\n",
    "От начала 125га(39%)\n",
    " \n",
    "Выравнивание под подсолнечник\n",
    "день 14га\n",
    "от начала 14га\n",
    "\"\"\""
   ]
  },
  {
   "cell_type": "code",
   "execution_count": 498,
   "id": "1a866a61-1d77-496e-b41f-24b67a4dedd8",
   "metadata": {
    "scrolled": true
   },
   "outputs": [
    {
     "data": {
      "text/plain": [
       "{'дата': '14.11.24',\n",
       " 'операции': [{'операция': 'Пахота',\n",
       "   'отделение': None,\n",
       "   'подразделение': 'СП Коломейцево',\n",
       "   'площадь': {'за_день': 29, 'c_начала_операции': 315},\n",
       "   'растительная_культура': 'Сахарная свёкла'},\n",
       "  {'операция': 'Выравнивание зяби',\n",
       "   'отделение': None,\n",
       "   'подразделение': 'СП Коломейцево',\n",
       "   'площадь': {'за_день': 20, 'c_начала_операции': 125},\n",
       "   'растительная_культура': 'Сахарная свёкла'},\n",
       "  {'операция': 'Выравнивание зяби',\n",
       "   'отделение': None,\n",
       "   'подразделение': 'СП Коломейцево',\n",
       "   'площадь': {'за_день': 14, 'c_начала_операции': 14},\n",
       "   'растительная_культура': 'Подсолнечник'}]}"
      ]
     },
     "execution_count": 498,
     "metadata": {},
     "output_type": "execute_result"
    }
   ],
   "source": [
    "out = init_model(message)\n",
    "out"
   ]
  },
  {
   "cell_type": "code",
   "execution_count": 559,
   "id": "6ecb9a6e-23c9-41b1-9c94-537ec93a0b32",
   "metadata": {},
   "outputs": [],
   "source": [
    "message=\"\"\"\n",
    "Пахота под сах св\n",
    "По Пу 77/518\n",
    "Отд 12 46/298\n",
    "Отд 16 21/143\n",
    "Отд 17 10/17\n",
    "\n",
    "Чизел под оз ячмень \n",
    "По Пу 22/640\n",
    "Отд 11 22/242\n",
    "\n",
    "Чизел под оз зел корм\n",
    "Отд 11 40/40\n",
    "\n",
    "Диск оз пшеницы\n",
    "По Пу 28/8872\n",
    "Отд 17 28/2097\n",
    "\n",
    "2-е диск под сах св\n",
    "По Пу 189/1763\n",
    "Отд 11 60/209\n",
    "Отд 12 122/540\n",
    "Отд 17 7/172\n",
    "\n",
    "Диск кук силос\n",
    "По Пу 6/904\n",
    "Отд 11 6/229\n",
    "\n",
    "Прик под оз ячмень\n",
    "По Пу 40/498\n",
    "Отд 11 40/100\n",
    "\n",
    "Уборка сои (семенной)\n",
    "Отд 11 65/65\n",
    "Вал 58720\n",
    "Урож 9\n",
    "\"\"\""
   ]
  },
  {
   "cell_type": "code",
   "execution_count": 560,
   "id": "632969d5-ab55-4f43-9c0f-f2f6f751c53b",
   "metadata": {},
   "outputs": [
    {
     "data": {
      "text/plain": [
       "{'дата': None,\n",
       " 'операции': [{'операция': 'Пахота',\n",
       "   'отделение': 12,\n",
       "   'подразделение': None,\n",
       "   'площадь': {'за_день': 46, 'c_начала_операции': 298},\n",
       "   'площадь_по_ПУ': {'за_день': 77, 'c_начала_операции': 518},\n",
       "   'растительная_культура': 'Свекла сахарная',\n",
       "   'вал': None},\n",
       "  {'операция': 'Чизлевание',\n",
       "   'отделение': None,\n",
       "   'подразделение': 'АОР',\n",
       "   'площадь': {'за_день': 22, 'c_начала_операции': 242},\n",
       "   'площадь_по_ПУ': {'за_день': 22, 'c_начала_операции': 143},\n",
       "   'растительная_культура': 'Ячмень озимый',\n",
       "   'вал': None},\n",
       "  {'операция': 'Чизлевание',\n",
       "   'отделение': None,\n",
       "   'подразделение': 'АОР',\n",
       "   'площадь': {'за_день': 40, 'c_начала_операции': 40},\n",
       "   'площадь_по_ПУ': None,\n",
       "   'растительная_культура': 'Пшеница озимая на зеленый корм',\n",
       "   'вал': None},\n",
       "  {'операция': 'Дискование',\n",
       "   'отделение': None,\n",
       "   'подразделение': 'АОР',\n",
       "   'площадь': {'за_день': 28, 'c_начала_операции': 2097},\n",
       "   'площадь_по_ПУ': {'за_день': 28, 'c_начала_операции': 8872},\n",
       "   'растительная_культура': 'Пшеница озимая',\n",
       "   'вал': None},\n",
       "  {'операция': 'Дискование 2-е',\n",
       "   'отделение': [11, 12, 17],\n",
       "   'подразделение': None,\n",
       "   'площадь': {'за_день': [189, 60, 7], 'c_начала_операции': [1763, 209, 172]},\n",
       "   'площадь_по_ПУ': {'за_день': 189, 'c_начала_операции': 1763},\n",
       "   'растительная_культура': 'Свекла сахарная',\n",
       "   'вал': None},\n",
       "  {'операция': 'Дискование под кукурузу на силос',\n",
       "   'отделение': 11,\n",
       "   'подразделение': None,\n",
       "   'площадь': {'за_день': 6, 'c_начала_операции': 229},\n",
       "   'площадь_по_ПУ': {'за_день': 6, 'c_начала_операции': 904},\n",
       "   'растительная_культура': 'Кукуруза кормовая',\n",
       "   'вал': None},\n",
       "  {'операция': 'Прикатывание посевов',\n",
       "   'отделение': 11,\n",
       "   'подразделение': None,\n",
       "   'площадь': {'за_день': 40, 'c_начала_операции': 100},\n",
       "   'площадь_по_ПУ': {'за_день': 40, 'c_начала_операции': 498},\n",
       "   'растительная_культура': 'Ячмень озимый',\n",
       "   'вал': None},\n",
       "  {'операция': 'Уборка',\n",
       "   'отделение': 11,\n",
       "   'подразделение': None,\n",
       "   'площадь': {'за_день': 65, 'c_начала_операции': 65},\n",
       "   'площадь_по_ПУ': None,\n",
       "   'растительная_культура': 'Соя семенная',\n",
       "   'вал': {'за_день': None, 'с_начала': 58720}}]}"
      ]
     },
     "execution_count": 560,
     "metadata": {},
     "output_type": "execute_result"
    }
   ],
   "source": [
    "out = init_model(message)\n",
    "out"
   ]
  },
  {
   "cell_type": "code",
   "execution_count": 528,
   "id": "3906b92d-0d5f-4257-bf62-ab3bd914a76f",
   "metadata": {},
   "outputs": [],
   "source": [
    "message = \"\"\"\n",
    "30.03.25г.\n",
    "СП Коломейцево\n",
    "\n",
    "предпосевная культивация  \n",
    "  -под подсолнечник\n",
    "    день 30га\n",
    "    от начала 187га(91%)\n",
    "\n",
    "сев подсолнечника \n",
    "  день+ночь 57га\n",
    "  от начала 157га(77%)\n",
    "\n",
    "Внесение почвенного гербицида по подсолнечнику \n",
    "  день 82га \n",
    "  от начала 82га (38%)\n",
    "\"\"\""
   ]
  },
  {
   "cell_type": "code",
   "execution_count": 529,
   "id": "74b1dc50-4516-4f79-9613-e2f0afdea3ed",
   "metadata": {},
   "outputs": [
    {
     "data": {
      "text/plain": [
       "{'дата': '30.03.25г',\n",
       " 'операции': [{'операция': 'Предпосевная культивация',\n",
       "   'отделение': None,\n",
       "   'подразделение': 'СП Коломейцево',\n",
       "   'площадь': {'за_день': 30, 'c_начала_операции': 187},\n",
       "   'растительная_культура': 'Подсолнечник',\n",
       "   'вал': None},\n",
       "  {'операция': 'Сев подсолнечника',\n",
       "   'отделение': None,\n",
       "   'подразделение': 'СП Коломейцево',\n",
       "   'площадь': {'за_день': 57, 'c_начала_операции': 157},\n",
       "   'растительная_культура': 'Подсолнечник',\n",
       "   'вал': None},\n",
       "  {'операция': 'Внесение минеральных удобрений',\n",
       "   'отделение': None,\n",
       "   'подразделение': 'СП Коломейцево',\n",
       "   'площадь': {'за_день': 82, 'c_начала_операции': 82},\n",
       "   'растительная_культура': 'Подсолнечник',\n",
       "   'вал': None}]}"
      ]
     },
     "execution_count": 529,
     "metadata": {},
     "output_type": "execute_result"
    }
   ],
   "source": [
    "out = init_model(message)\n",
    "out"
   ]
  },
  {
   "cell_type": "code",
   "execution_count": null,
   "id": "08c6db34-315e-43d9-864c-6f5720201577",
   "metadata": {},
   "outputs": [],
   "source": [
    "df.to_excel(filename, index=False)\n",
    "\n",
    "SCOPES = ['https://www.googleapis.com/auth/drive.file']\n",
    "\n",
    "def authenticate():\n",
    "    creds = None\n",
    "    if os.path.exists('token.json'):\n",
    "        creds = Credentials.from_authorized_user_file('token.json', SCOPES)\n",
    "    if not creds or not creds.valid:\n",
    "        if creds and creds.expired and creds.refresh_token:\n",
    "            creds.refresh(Request())\n",
    "        else:\n",
    "            flow = InstalledAppFlow.from_client_secrets_file('credentials.json', SCOPES)\n",
    "            creds = flow.run_local_server(port=0)\n",
    "        with open('token.json', 'w') as token:\n",
    "            token.write(creds.to_json())\n",
    "    return creds\n",
    "\n",
    "def upload_to_drive(filename, creds):\n",
    "    service = build('drive', 'v3', credentials=creds)\n",
    "    file_metadata = {'name': filename}\n",
    "    media = MediaFileUpload(filename, mimetype='application/vnd.openxmlformats-officedocument.spreadsheetml.sheet')\n",
    "    file = service.files().create(body=file_metadata, media_body=media, fields='id').execute()\n",
    "    print(f'Файл загружен. ID: {file.get(\"id\")}')\n",
    "\n",
    "creds = authenticate()\n",
    "upload_to_drive(filename, creds)"
   ]
  },
  {
   "cell_type": "code",
   "execution_count": 567,
   "id": "f12900bd-f90f-4f71-8ec0-615f161cea68",
   "metadata": {},
   "outputs": [],
   "source": [
    "def create_dataframe(json):\n",
    "    records = []\n",
    "    for op in json['операции']:\n",
    "        record = {\n",
    "            'операция': op.get('операция'),\n",
    "            'отделение': op.get('отделение') if op.get('отделение') else np.nan,\n",
    "            'подразделение': op.get('подразделение') if op.get('подразделение') else np.nan,\n",
    "            'растительная_культура': op.get('растительная_культура'),\n",
    "            'площадь_за_день': op.get('площадь', {}).get('за_день'),\n",
    "            'площадь_с_начала': op.get('площадь', {}).get('c_начала_операции'),\n",
    "            'площадь_по_ПУ_за_день': op.get('площадь_по_ПУ', {}).get('за_день') if op.get('площадь_по_ПУ') else np.nan,\n",
    "            'площадь_по_ПУ_с_начала': op.get('площадь_по_ПУ', {}).get('c_начала_операции') if op.get('площадь_по_ПУ') else np.nan,\n",
    "            'вал_за_день': op.get('вал', {}).get('за_день') if op.get('вал') else np.nan,\n",
    "            'вал_с_начала': op.get('вал', {}).get('с_начала') if op.get('вал') else np.nan\n",
    "        }\n",
    "        records.append(record)\n",
    "\n",
    "    df = pd.DataFrame(records)\n",
    "    print(df)\n"
   ]
  },
  {
   "cell_type": "code",
   "execution_count": 566,
   "id": "5ad89512-8824-4648-b664-a241838207c9",
   "metadata": {},
   "outputs": [
    {
     "ename": "KeyError",
     "evalue": "'отделение'",
     "output_type": "error",
     "traceback": [
      "\u001B[0;31m---------------------------------------------------------------------------\u001B[0m",
      "\u001B[0;31mKeyError\u001B[0m                                  Traceback (most recent call last)",
      "Cell \u001B[0;32mIn[566], line 1\u001B[0m\n\u001B[0;32m----> 1\u001B[0m \u001B[43mcreate_dataframe\u001B[49m\u001B[43m(\u001B[49m\u001B[43mout\u001B[49m\u001B[43m)\u001B[49m\n",
      "Cell \u001B[0;32mIn[565], line 2\u001B[0m, in \u001B[0;36mcreate_dataframe\u001B[0;34m(json)\u001B[0m\n\u001B[1;32m      1\u001B[0m \u001B[38;5;28;01mdef\u001B[39;00m \u001B[38;5;21mcreate_dataframe\u001B[39m(json):\n\u001B[0;32m----> 2\u001B[0m     num_rows \u001B[38;5;241m=\u001B[39m \u001B[38;5;28mlen\u001B[39m(\u001B[43mjson\u001B[49m\u001B[43m[\u001B[49m\u001B[38;5;124;43m'\u001B[39;49m\u001B[38;5;124;43mотделение\u001B[39;49m\u001B[38;5;124;43m'\u001B[39;49m\u001B[43m]\u001B[49m)\n\u001B[1;32m      3\u001B[0m     records \u001B[38;5;241m=\u001B[39m []\n\u001B[1;32m      4\u001B[0m     \u001B[38;5;28;01mfor\u001B[39;00m i \u001B[38;5;129;01min\u001B[39;00m \u001B[38;5;28mrange\u001B[39m(num_rows):\n",
      "\u001B[0;31mKeyError\u001B[0m: 'отделение'"
     ]
    }
   ],
   "source": [
    "create_dataframe(out)"
   ]
  },
  {
   "cell_type": "code",
   "execution_count": null,
   "id": "1ed43d93-cf8f-4fd9-b1ac-f8d7b119a5fd",
   "metadata": {},
   "outputs": [],
   "source": []
  }
 ],
 "metadata": {
  "kernelspec": {
   "display_name": "Python 3 (ipykernel)",
   "language": "python",
   "name": "python3"
  },
  "language_info": {
   "codemirror_mode": {
    "name": "ipython",
    "version": 3
   },
   "file_extension": ".py",
   "mimetype": "text/x-python",
   "name": "python",
   "nbconvert_exporter": "python",
   "pygments_lexer": "ipython3",
   "version": "3.12.3"
  }
 },
 "nbformat": 4,
 "nbformat_minor": 5
}
